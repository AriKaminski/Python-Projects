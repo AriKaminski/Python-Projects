{
 "cells": [
  {
   "cell_type": "markdown",
   "id": "be2b758c",
   "metadata": {},
   "source": [
    "Ari Kaminski Sept 15 2021"
   ]
  },
  {
   "cell_type": "markdown",
   "id": "130aa08a",
   "metadata": {},
   "source": [
    "Lab 2 Problem 1"
   ]
  },
  {
   "cell_type": "markdown",
   "id": "c6fc6a14",
   "metadata": {},
   "source": [
    "Bitcoin is a digital currency that operates freely without being controlled by the government.\n",
    "A ledger that is public records all bitcoin transactions that is shared accross computer servers, which is a node.\n",
    "Every several minutes the ledger is collected and posted to a group called a block and added permenantly to a blockchain.\n",
    "A blockchain is a database that storces blocks and contains all information on existing bitcoin wallets.\n",
    "Bitcoins may be mined by computer rigs that solve complicated puzzles to conform groups of blocks, in exchange for a small number of bitcoin."
   ]
  },
  {
   "cell_type": "markdown",
   "id": "ea2ecb42",
   "metadata": {},
   "source": [
    "Lab 2 Problem 2"
   ]
  },
  {
   "cell_type": "code",
   "execution_count": 1,
   "id": "e4df0816",
   "metadata": {},
   "outputs": [
    {
     "name": "stdout",
     "output_type": "stream",
     "text": [
      "Enter the amount of bitcoins in your digital wallet = 2\n",
      "The cash value of your digital wallet = $ 96872.72\n"
     ]
    }
   ],
   "source": [
    "#Ari Kaminski - This is code for a bitcoin converter program\n",
    "\n",
    "\n",
    "bitcoin_price = 48436.36\n",
    "float(bitcoin_price)\n",
    "num_bitcoin = int(input(\"Enter the amount of bitcoins in your digital wallet = \"))\n",
    "total = num_bitcoin * bitcoin_price\n",
    "total = round(total, 2)\n",
    "print(\"The cash value of your digital wallet = $ \" + str(total))"
   ]
  },
  {
   "cell_type": "markdown",
   "id": "828176c6",
   "metadata": {},
   "source": [
    "Lab 2 Problem 3\n"
   ]
  },
  {
   "cell_type": "code",
   "execution_count": 8,
   "id": "8c8a634a",
   "metadata": {},
   "outputs": [
    {
     "name": "stdout",
     "output_type": "stream",
     "text": [
      "Enter a place to enjoy a nice walk = a\n",
      "Enter a fun adjective = a\n",
      "Enter a verb ending in -ed = a\n",
      "Enter another fun adjective = a\n",
      "Enter a third fun adjective = a\n",
      "Enter a fourth fun adjective = a\n",
      "Enter a verb in past tense = a\n",
      "Enter a plural noun = a\n",
      "Enter a fifth fun adjective = a\n",
      "Enter a plural animal = a\n",
      "Enter a plural plant = a\n",
      "Enter a noun = a\n",
      "Enter a verb ending in -ing = a\n",
      "\n",
      "\n",
      "Today I went for a walk in a. The air was a.\n",
      "I decided that I was a. This was because my shoes were a.\n",
      "On the way home a friend of mine looked a. He said that his boss was a.\n",
      "I a into my apartment complex. There were a bunch of a on my way in.\n",
      "On the way to my door, there was a lady with a bunch of a.\n",
      "I entered my apartment and my a were in need of watering.\n",
      "I opened the blinds and looked out the window. I noticed a a a. It was a good walk.\n"
     ]
    }
   ],
   "source": [
    "#Ari Kaminski - This is code for a madlib story \"I went for a walk\"\n",
    "\n",
    "place = str(input(\"Enter a place to enjoy a nice walk = \"))\n",
    "adjective1 = str(input(\"Enter a fun adjective = \"))\n",
    "verb_ed = str(input(\"Enter a verb ending in -ed = \"))\n",
    "adjective2 = str(input(\"Enter another fun adjective = \"))\n",
    "adjective3 = str(input(\"Enter a third fun adjective = \"))\n",
    "adjective4 = str(input(\"Enter a fourth fun adjective = \"))\n",
    "verb_past = str(input(\"Enter a verb in past tense = \"))\n",
    "plural_noun = str(input(\"Enter a plural noun = \"))\n",
    "adjective5 = str(input(\"Enter a fifth fun adjective = \"))\n",
    "animal_plural = str(input(\"Enter a plural animal = \"))\n",
    "plant_plural = str(input(\"Enter a plural plant = \"))\n",
    "noun1 = str(input(\"Enter a noun = \"))\n",
    "verb_ing = str(input(\"Enter a verb ending in -ing = \"))\n",
    "\n",
    "print(\"\\n\")\n",
    "\n",
    "print(\"Today I went for a walk in \" + place + \". The air was \" + adjective1 + \".\")\n",
    "print(\"I decided that I was \" + adjective2 + \". This was because my shoes were \" + adjective3 + \".\")\n",
    "print(\"On the way home a friend of mine looked \" + adjective4 + \". He said that his boss was \" + adjective5 + \".\")\n",
    "print(\"I \" + verb_past + \" into my apartment complex. There were a bunch of \" + plural_noun + \" on my way in.\")\n",
    "print(\"On the way to my door, there was a lady with a bunch of \" + animal_plural + \".\")\n",
    "print(\"I entered my apartment and my \" + plant_plural + \" were in need of watering.\")\n",
    "print(\"I opened the blinds and looked out the window. I noticed a \" + noun1 + \" \" + verb_ing + \". It was a good walk.\")\n",
    "\n",
    "\n",
    "\n",
    "\n",
    "\n",
    "\n"
   ]
  },
  {
   "cell_type": "code",
   "execution_count": null,
   "id": "57229bcc",
   "metadata": {},
   "outputs": [],
   "source": [
    "\n",
    "\n"
   ]
  },
  {
   "cell_type": "code",
   "execution_count": null,
   "id": "46f646a1",
   "metadata": {},
   "outputs": [],
   "source": []
  }
 ],
 "metadata": {
  "kernelspec": {
   "display_name": "Python 3",
   "language": "python",
   "name": "python3"
  },
  "language_info": {
   "codemirror_mode": {
    "name": "ipython",
    "version": 3
   },
   "file_extension": ".py",
   "mimetype": "text/x-python",
   "name": "python",
   "nbconvert_exporter": "python",
   "pygments_lexer": "ipython3",
   "version": "3.8.8"
  }
 },
 "nbformat": 4,
 "nbformat_minor": 5
}
