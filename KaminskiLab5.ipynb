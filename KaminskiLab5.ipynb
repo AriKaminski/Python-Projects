{
 "cells": [
  {
   "cell_type": "markdown",
   "id": "041dbdd5",
   "metadata": {},
   "source": [
    "Ari Kaminski\n",
    "\n",
    "\n",
    "Lab 5 Problem 1"
   ]
  },
  {
   "cell_type": "code",
   "execution_count": 18,
   "id": "eca37b14",
   "metadata": {},
   "outputs": [
    {
     "name": "stdout",
     "output_type": "stream",
     "text": [
      "Please select a first number = 8\n",
      "Please select a second number = 8\n",
      "16\n",
      "*****\n",
      "*****\n",
      "*****\n",
      "*****\n",
      "*****\n",
      "*****\n",
      "*****\n",
      "*****\n",
      "*****\n",
      "*****\n",
      "*****\n",
      "*****\n",
      "*****\n",
      "*****\n",
      "*****\n",
      "*****\n"
     ]
    }
   ],
   "source": [
    "#This is a program with three functions, print stars, add_them, which adds two numbers, and a main which calls both\n",
    "\n",
    "def print_stars():\n",
    "    print('*****')\n",
    "    \n",
    "def add_them(num1, num2):\n",
    "    sum = num1 + num2\n",
    "    print(sum)\n",
    "    return sum\n",
    "    \n",
    "def main():\n",
    "    #get input\n",
    "    num1 = int(input('Please select a first number = '))\n",
    "    num2 = int(input('Please select a second number = '))\n",
    "    sum = num1 + num2\n",
    "    \n",
    "    add_them(num1, num2)\n",
    "    \n",
    "    while sum > 0:\n",
    "        print_stars()\n",
    "        sum = sum - 1\n",
    "\n",
    "main()\n",
    "    \n",
    "    \n",
    "\n",
    "\n",
    "\n"
   ]
  },
  {
   "cell_type": "markdown",
   "id": "487492f5",
   "metadata": {},
   "source": [
    "Lab 5 Problem 2\n",
    "\n"
   ]
  },
  {
   "cell_type": "code",
   "execution_count": 58,
   "id": "ca1f79a2",
   "metadata": {},
   "outputs": [
    {
     "name": "stdout",
     "output_type": "stream",
     "text": [
      "Welcome to the even / odd tester! \n",
      "\n",
      "Enter an integer = 5\n",
      "You entered 5 which is an odd number\n",
      "Continue? Y or N: y\n",
      "Welcome to the even / odd tester! \n",
      "\n",
      "Enter an integer = 1000\n",
      "You entered 1000 which is an even number\n",
      "Continue? Y or N: n\n"
     ]
    }
   ],
   "source": [
    "#This is code for testing if a number is odd or even\n",
    "\n",
    "def odd_even():\n",
    "    num1 = int(input(\"Enter an integer = \"))\n",
    "    return num1\n",
    "\n",
    "        \n",
    "def main():\n",
    "    choice = \"y\"\n",
    "    \n",
    "    while choice.lower() == \"y\":\n",
    "        print(\"Welcome to the even / odd tester! \\n\")\n",
    "        num1 = odd_even()\n",
    "        if(num1 % 2 == 0):\n",
    "            ans = 'even'\n",
    "        elif(num1 % 2 == 1):\n",
    "            ans = 'odd'\n",
    "        print(\"You entered \" + str(num1) + \" which is an \" + ans + \" number\")\n",
    "        choice = input('Continue? Y or N: ')\n",
    "\n",
    "main()"
   ]
  },
  {
   "cell_type": "markdown",
   "id": "f1e73edb",
   "metadata": {},
   "source": [
    "##### "
   ]
  }
 ],
 "metadata": {
  "kernelspec": {
   "display_name": "Python 3",
   "language": "python",
   "name": "python3"
  },
  "language_info": {
   "codemirror_mode": {
    "name": "ipython",
    "version": 3
   },
   "file_extension": ".py",
   "mimetype": "text/x-python",
   "name": "python",
   "nbconvert_exporter": "python",
   "pygments_lexer": "ipython3",
   "version": "3.8.8"
  }
 },
 "nbformat": 4,
 "nbformat_minor": 5
}
