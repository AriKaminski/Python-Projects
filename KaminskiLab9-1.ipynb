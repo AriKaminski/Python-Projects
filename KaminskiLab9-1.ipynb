{
 "cells": [
  {
   "cell_type": "markdown",
   "id": "5441509a",
   "metadata": {},
   "source": [
    "Kaminski Lab 9\n",
    "\n",
    "Problem 2\n"
   ]
  },
  {
   "cell_type": "code",
   "execution_count": null,
   "id": "9455ad22",
   "metadata": {},
   "outputs": [],
   "source": [
    "def display_menu():\n",
    "    print(\"COMMAND MENU\")\n",
    "    print(\"list - List all movies\")\n",
    "    print(\"add - Add a movie\")\n",
    "    print(\"del - Delete a movie\")\n",
    "    print(\"exit - exit program\")\n",
    "    \n",
    "def list(movie_list):\n",
    "    \"\"\"The list function lists all movies\"\"\"\n",
    "    for movie in movie_list:\n",
    "        print(movie[\"name\"],movie[\"year\"],\"\\n\")\n",
    "\n",
    "    \n",
    "def add(movie_list):\n",
    "    \"\"\"the add function adds a movie to movie_list\"\"\"\n",
    "    movie_name = input(\"Enter movie name: \")\n",
    "    movie_year = int(input(\"Enter movie year: \"))\n",
    "    movie_list.append({'name':movie_name,'year':movie_year})\n",
    "    print(movie_name + ' was added to the list')\n",
    "        \n",
    "\n",
    "        \n",
    "def delete(movie_list):\n",
    "    \"\"\"The delete function deletes a movie from movie_list\"\"\"\n",
    "    movie_num = int(input(\"Enter movie num = \"))\n",
    "    if movie_num < 1 or movie_num > len(movie_list):\n",
    "        print(\"Invalid movie nubmer. \\n\")\n",
    "    else:\n",
    "        y = movie_list.pop(movie_num-1)\n",
    "        print((y[\"name\"] + ' was deleted from the movie list'))\n",
    "    \n",
    "    \n",
    "\n",
    "def main():\n",
    "    movie_list =  [{\"name\":\"A Star is Born\",\"year\": 2018},\n",
    "                  {\"name\":\"An Old Man and a Gun\",\"year\": 2018},\n",
    "                  {\"name\":\"The Spy Who Dumped Me\",\"year\": 2017}]\n",
    "    \n",
    "    \n",
    "              \n",
    "    display_menu()\n",
    "    command = input(\"Enter Command: \")\n",
    "        \n",
    "    while (command.lower() != \"exit\"):\n",
    "        \n",
    "        if command.lower() == \"list\":\n",
    "            list(movie_list)\n",
    "            display_menu()\n",
    "        elif command.lower() == \"add\":\n",
    "            add(movie_list)\n",
    "            display_menu()\n",
    "        elif command.lower() == \"del\":\n",
    "            delete(movie_list)\n",
    "            display_menu()\n",
    "        else:\n",
    "            print(\"Not a valid command.  Please try again.\\n\")\n",
    "\n",
    "        command = input(\"Enter Command: \")\n",
    "         \n",
    "    print(\"You'll be back!\")\n",
    "if __name__ == \"__main__\":\n",
    "    main()"
   ]
  },
  {
   "cell_type": "code",
   "execution_count": null,
   "id": "0e41f5c3",
   "metadata": {},
   "outputs": [],
   "source": []
  }
 ],
 "metadata": {
  "kernelspec": {
   "display_name": "Python 3",
   "language": "python",
   "name": "python3"
  },
  "language_info": {
   "codemirror_mode": {
    "name": "ipython",
    "version": 3
   },
   "file_extension": ".py",
   "mimetype": "text/x-python",
   "name": "python",
   "nbconvert_exporter": "python",
   "pygments_lexer": "ipython3",
   "version": "3.8.8"
  }
 },
 "nbformat": 4,
 "nbformat_minor": 5
}
